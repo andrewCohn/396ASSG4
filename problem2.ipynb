version https://git-lfs.github.com/spec/v1
oid sha256:37a7e49de3c544744db2fb69ce152ed822ac461fe70cbab427a7c2bf761356f1
size 224
