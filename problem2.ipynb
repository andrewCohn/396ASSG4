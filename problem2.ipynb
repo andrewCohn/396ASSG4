version https://git-lfs.github.com/spec/v1
oid sha256:aa4e80c157a18d1e3ef41273e3be3fa1aeeea5689457bc64c0bf2ee4a9a76e0c
size 10211
