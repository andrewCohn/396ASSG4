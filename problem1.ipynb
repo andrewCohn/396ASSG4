version https://git-lfs.github.com/spec/v1
oid sha256:c9eac5479dbedea81e33b92ad358d211bf9bb3fb3a47cff61e75e0bae9ef6420
size 201009712
